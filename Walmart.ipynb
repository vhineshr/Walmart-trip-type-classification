{
 "cells": [
  {
   "cell_type": "code",
   "execution_count": 1,
   "metadata": {
    "collapsed": false
   },
   "outputs": [
    {
     "name": "stderr",
     "output_type": "stream",
     "text": [
      "/usr/local/lib/python3.4/dist-packages/matplotlib/font_manager.py:273: UserWarning: Matplotlib is building the font cache using fc-list. This may take a moment.\n",
      "  warnings.warn('Matplotlib is building the font cache using fc-list. This may take a moment.')\n",
      "/usr/local/lib/python3.4/dist-packages/matplotlib/font_manager.py:273: UserWarning: Matplotlib is building the font cache using fc-list. This may take a moment.\n",
      "  warnings.warn('Matplotlib is building the font cache using fc-list. This may take a moment.')\n"
     ]
    }
   ],
   "source": [
    "#import statements\n",
    "import pandas as pd\n",
    "import numpy as np\n",
    "import re \n",
    "from sklearn.cross_validation import train_test_split\n",
    "from matplotlib import pyplot as plt\n",
    "%matplotlib inline\n",
    "#importing the data into the notebook\n",
    "train_data = pd.read_csv(\"/resources/data/Walmart/fiveclasses_train.csv\")\n",
    "train_data.head()\n",
    "\n",
    "features = [\"Weekday\", \"NumItems\", \"Return\", 'ACCESSORIES',\n",
    "       'AUTOMOTIVE', 'BAKERY', 'BATH AND SHOWER', 'BEAUTY', 'BEDDING',\n",
    "       'BOOKS AND MAGAZINES', 'BOYS WEAR', 'BRAS & SHAPEWEAR',\n",
    "       'CAMERAS AND SUPPLIES', 'CANDY, TOBACCO, COOKIES', 'CELEBRATION',\n",
    "       'COMM BREAD', 'CONCEPT STORES', 'COOK AND DINE', 'DAIRY', 'DSD GROCERY',\n",
    "       'ELECTRONICS', 'FABRICS AND CRAFTS', 'FINANCIAL SERVICES',\n",
    "       'FROZEN FOODS', 'FURNITURE', 'GIRLS WEAR, 4-6X  AND 7-14',\n",
    "       'GROCERY DRY GOODS', 'HARDWARE', 'HOME DECOR',\n",
    "       'HOME MANAGEMENT', 'HORTICULTURE AND ACCESS',\n",
    "       'HOUSEHOLD CHEMICALS/SUPP', 'HOUSEHOLD PAPER GOODS',\n",
    "       'IMPULSE MERCHANDISE', 'INFANT APPAREL', 'INFANT CONSUMABLE HARDLINES',\n",
    "       'JEWELRY AND SUNGLASSES', 'LADIES SOCKS', 'LADIESWEAR',\n",
    "       'LARGE HOUSEHOLD GOODS', 'LAWN AND GARDEN', 'LIQUOR,WINE,BEER',\n",
    "       'MEAT - FRESH & FROZEN', 'MEDIA AND GAMING',  'MENSWEAR',\n",
    "       'OFFICE SUPPLIES', 'OPTICAL - FRAMES', 'OPTICAL - LENSES',\n",
    "       'OTHER DEPARTMENTS', 'PAINT AND ACCESSORIES', 'PERSONAL CARE',\n",
    "       'PETS AND SUPPLIES', 'PHARMACY OTC', 'PHARMACY RX',\n",
    "       'PLAYERS AND ELECTRONICS', 'PLUS AND MATERNITY', 'PRE PACKED DELI',\n",
    "       'PRODUCE', 'SEAFOOD', 'SEASONAL', 'SERVICE DELI', 'SHEER HOSIERY',\n",
    "       'SHOES', 'SLEEPWEAR/FOUNDATIONS', 'SPORTING GOODS',\n",
    "       'SWIMWEAR/OUTERWEAR', 'TOYS', 'WIRELESS']"
   ]
  },
  {
   "cell_type": "code",
   "execution_count": 2,
   "metadata": {
    "collapsed": false
   },
   "outputs": [
    {
     "data": {
      "text/plain": [
       "(15195, 71)"
      ]
     },
     "execution_count": 2,
     "metadata": {},
     "output_type": "execute_result"
    }
   ],
   "source": [
    "#Feature Building\n",
    "def transform_my_data(data):\n",
    "    \n",
    "    dummies = pd.get_dummies(data.DepartmentDescription)\n",
    "    data[dummies.columns] = dummies \n",
    "    data_dummies = data.iloc[:,7:]\n",
    "    data_dummies = data_dummies.apply(lambda x: x*data[\"ScanCount\"])\n",
    "    data_dummies = data_dummies.replace(-0,0)\n",
    "\n",
    "    data.loc[data.ScanCount < 0, 'Return'] = 1\n",
    "    data.loc[data.Return != 1, 'Return'] = 0\n",
    "    data = data[[\"TripType\", \"VisitNumber\", \"Weekday\", \"ScanCount\", \"Return\"]]\n",
    "    data = data.rename(columns={\"ScanCount\":\"NumItems\"})\n",
    "    data = pd.concat([data, data_dummies], axis=1)\n",
    "    grouped = data.groupby(\"VisitNumber\")\n",
    "    grouped = grouped.agg({'Weekday': np.max, \"TripType\": np.max, 'NumItems': np.sum, 'Return': np.max, \n",
    "              '1-HR PHOTO': np.sum, 'ACCESSORIES': np.sum,\n",
    "       'AUTOMOTIVE': np.sum, 'BAKERY': np.sum, 'BATH AND SHOWER': np.sum, 'BEAUTY': np.sum, 'BEDDING': np.sum,\n",
    "       'BOOKS AND MAGAZINES': np.sum, 'BOYS WEAR': np.sum, 'BRAS & SHAPEWEAR': np.sum,\n",
    "       'CAMERAS AND SUPPLIES': np.sum, 'CANDY, TOBACCO, COOKIES': np.sum, 'CELEBRATION': np.sum,\n",
    "       'COMM BREAD': np.sum, 'CONCEPT STORES': np.sum, 'COOK AND DINE': np.sum, 'DAIRY': np.sum, 'DSD GROCERY': np.sum,\n",
    "       'ELECTRONICS': np.sum, 'FABRICS AND CRAFTS': np.sum, 'FINANCIAL SERVICES': np.sum,\n",
    "       'FROZEN FOODS': np.sum, 'FURNITURE': np.sum, 'GIRLS WEAR, 4-6X  AND 7-14': np.sum,\n",
    "       'GROCERY DRY GOODS': np.sum, 'HARDWARE': np.sum, 'HEALTH AND BEAUTY AIDS': np.sum, 'HOME DECOR': np.sum,\n",
    "       'HOME MANAGEMENT': np.sum, 'HORTICULTURE AND ACCESS': np.sum,\n",
    "       'HOUSEHOLD CHEMICALS/SUPP': np.sum, 'HOUSEHOLD PAPER GOODS': np.sum,\n",
    "       'IMPULSE MERCHANDISE': np.sum, 'INFANT APPAREL': np.sum, 'INFANT CONSUMABLE HARDLINES': np.sum,\n",
    "       'JEWELRY AND SUNGLASSES': np.sum, 'LADIES SOCKS': np.sum, 'LADIESWEAR': np.sum,\n",
    "       'LARGE HOUSEHOLD GOODS': np.sum, 'LAWN AND GARDEN': np.sum, 'LIQUOR,WINE,BEER': np.sum,\n",
    "       'MEAT - FRESH & FROZEN': np.sum, 'MEDIA AND GAMING': np.sum,'MENSWEAR': np.sum,\n",
    "       'OFFICE SUPPLIES': np.sum, 'OPTICAL - FRAMES': np.sum, 'OPTICAL - LENSES': np.sum,\n",
    "       'OTHER DEPARTMENTS': np.sum, 'PAINT AND ACCESSORIES': np.sum, 'PERSONAL CARE': np.sum,\n",
    "       'PETS AND SUPPLIES': np.sum, 'PHARMACY OTC': np.sum, 'PHARMACY RX': np.sum,\n",
    "       'PLAYERS AND ELECTRONICS': np.sum, 'PLUS AND MATERNITY': np.sum, 'PRE PACKED DELI': np.sum,\n",
    "       'PRODUCE': np.sum, 'SEAFOOD': np.sum, 'SEASONAL': np.sum, 'SERVICE DELI': np.sum, 'SHEER HOSIERY': np.sum,\n",
    "       'SHOES': np.sum, 'SLEEPWEAR/FOUNDATIONS': np.sum, 'SPORTING GOODS': np.sum,\n",
    "       'SWIMWEAR/OUTERWEAR': np.sum, 'TOYS': np.sum, 'WIRELESS': np.sum})\n",
    "    data = grouped[[\"TripType\", \"Weekday\", \"NumItems\", \"Return\",'1-HR PHOTO', 'ACCESSORIES',\n",
    "           'AUTOMOTIVE', 'BAKERY', 'BATH AND SHOWER', 'BEAUTY', 'BEDDING',\n",
    "           'BOOKS AND MAGAZINES', 'BOYS WEAR', 'BRAS & SHAPEWEAR',\n",
    "           'CAMERAS AND SUPPLIES', 'CANDY, TOBACCO, COOKIES', 'CELEBRATION',\n",
    "           'COMM BREAD', 'CONCEPT STORES', 'COOK AND DINE', 'DAIRY', 'DSD GROCERY',\n",
    "           'ELECTRONICS', 'FABRICS AND CRAFTS', 'FINANCIAL SERVICES',\n",
    "           'FROZEN FOODS', 'FURNITURE', 'GIRLS WEAR, 4-6X  AND 7-14',\n",
    "           'GROCERY DRY GOODS', 'HARDWARE', 'HEALTH AND BEAUTY AIDS', 'HOME DECOR',\n",
    "           'HOME MANAGEMENT', 'HORTICULTURE AND ACCESS',\n",
    "           'HOUSEHOLD CHEMICALS/SUPP', 'HOUSEHOLD PAPER GOODS',\n",
    "           'IMPULSE MERCHANDISE', 'INFANT APPAREL', 'INFANT CONSUMABLE HARDLINES',\n",
    "           'JEWELRY AND SUNGLASSES', 'LADIES SOCKS', 'LADIESWEAR',\n",
    "           'LARGE HOUSEHOLD GOODS', 'LAWN AND GARDEN', 'LIQUOR,WINE,BEER',\n",
    "           'MEAT - FRESH & FROZEN', 'MEDIA AND GAMING', 'MENSWEAR',\n",
    "           'OFFICE SUPPLIES', 'OPTICAL - FRAMES', 'OPTICAL - LENSES',\n",
    "           'OTHER DEPARTMENTS', 'PAINT AND ACCESSORIES', 'PERSONAL CARE',\n",
    "           'PETS AND SUPPLIES', 'PHARMACY OTC', 'PHARMACY RX',\n",
    "           'PLAYERS AND ELECTRONICS', 'PLUS AND MATERNITY', 'PRE PACKED DELI',\n",
    "           'PRODUCE', 'SEAFOOD', 'SEASONAL', 'SERVICE DELI', 'SHEER HOSIERY',\n",
    "           'SHOES', 'SLEEPWEAR/FOUNDATIONS', 'SPORTING GOODS',\n",
    "           'SWIMWEAR/OUTERWEAR', 'TOYS', 'WIRELESS']]\n",
    "    \n",
    "    \n",
    "    #data.head()\n",
    "    return data\n",
    "\n",
    "train_data=transform_my_data(train_data)\n",
    "train_data.shape\n",
    "#train_data.head()"
   ]
  },
  {
   "cell_type": "code",
   "execution_count": 3,
   "metadata": {
    "collapsed": false
   },
   "outputs": [
    {
     "data": {
      "text/plain": [
       "(10636, 71)"
      ]
     },
     "execution_count": 3,
     "metadata": {},
     "output_type": "execute_result"
    }
   ],
   "source": [
    "#Data preprocesssing dropping na and splitting data into test and train\n",
    "train, test = train_test_split(train_data, test_size = 0.3)\n",
    "test=test.dropna()\n",
    "train=train.dropna()\n",
    "train_data = train\n",
    "train_data.describe()\n",
    "train_data.shape"
   ]
  },
  {
   "cell_type": "code",
   "execution_count": 4,
   "metadata": {
    "collapsed": true
   },
   "outputs": [],
   "source": [
    "#Data preprocesssing\n",
    "#Transforming qualitative variables into quantitative\n",
    "def transform(day,no):\n",
    "    global train_data\n",
    "    train_data=train_data.replace(day,no)\n",
    "    return;\n",
    "transform(\"Monday\", 1)\n",
    "transform(\"Tuesday\", 2)\n",
    "transform(\"Wednesday\", 3)\n",
    "transform(\"Thursday\", 4)\n",
    "transform(\"Friday\", 5)\n",
    "transform(\"Saturday\", 6)\n",
    "transform(\"Sunday\", 7)\n",
    "\n",
    "#Removing redundency in department description column\n",
    "train_data=train_data.replace(\"MENS WEAR\",\"MENSWEAR\")"
   ]
  },
  {
   "cell_type": "code",
   "execution_count": 5,
   "metadata": {
    "collapsed": false
   },
   "outputs": [
    {
     "data": {
      "text/plain": [
       "<matplotlib.axes._subplots.AxesSubplot at 0x7f6ba30b6400>"
      ]
     },
     "execution_count": 5,
     "metadata": {},
     "output_type": "execute_result"
    },
    {
     "data": {
      "image/png": "[encoded data removed]",
      "text/plain": [
       "<matplotlib.figure.Figure at 0x7f6b73993278>"
      ]
     },
     "metadata": {},
     "output_type": "display_data"
    }
   ],
   "source": [
    "\n",
    "#ploting the histogram for the trip type \n",
    "#data_tripty = train_data.drop_duplicates(\"VisitNumber\")\n",
    "plt.figure(figsize=(12,5))\n",
    "train_data['TripType'].value_counts().plot('bar',title=\"Trip Type\")"
   ]
  },
  {
   "cell_type": "code",
   "execution_count": 6,
   "metadata": {
    "collapsed": false
   },
   "outputs": [
    {
     "data": {
      "text/plain": [
       "<matplotlib.axes._subplots.AxesSubplot at 0x7f6bb3fbac88>"
      ]
     },
     "execution_count": 6,
     "metadata": {},
     "output_type": "execute_result"
    },
    {
     "data": {
      "image/png": "[encoded data removed]",
      "text/plain": [
       "<matplotlib.figure.Figure at 0x7f6b73cc98d0>"
      ]
     },
     "metadata": {},
     "output_type": "display_data"
    }
   ],
   "source": [
    "#ploting histogram for daywise visits\n",
    "#data_tripwd = train_data.drop_duplicates(\"VisitNumber\")\n",
    "plt.figure(figsize=(12,5))\n",
    "train_data['Weekday'].value_counts().plot('bar',title=\"Daywise visits in a week \")"
   ]
  },
  {
   "cell_type": "code",
   "execution_count": 7,
   "metadata": {
    "collapsed": false
   },
   "outputs": [
    {
     "data": {
      "text/plain": [
       "TripType                       5\n",
       "Weekday                        7\n",
       "NumItems                      64\n",
       "Return                         2\n",
       "1-HR PHOTO                     5\n",
       "ACCESSORIES                    5\n",
       "AUTOMOTIVE                     6\n",
       "BAKERY                         8\n",
       "BATH AND SHOWER                7\n",
       "BEAUTY                        21\n",
       "BEDDING                        3\n",
       "BOOKS AND MAGAZINES            5\n",
       "BOYS WEAR                      5\n",
       "BRAS & SHAPEWEAR               5\n",
       "CAMERAS AND SUPPLIES           2\n",
       "CANDY, TOBACCO, COOKIES        9\n",
       "CELEBRATION                    6\n",
       "COMM BREAD                    12\n",
       "CONCEPT STORES                 2\n",
       "COOK AND DINE                 10\n",
       "DAIRY                         22\n",
       "DSD GROCERY                   19\n",
       "ELECTRONICS                    3\n",
       "FABRICS AND CRAFTS             6\n",
       "FINANCIAL SERVICES            14\n",
       "FROZEN FOODS                  15\n",
       "FURNITURE                      5\n",
       "GIRLS WEAR, 4-6X  AND 7-14     7\n",
       "GROCERY DRY GOODS             35\n",
       "HARDWARE                       6\n",
       "                              ..\n",
       "LADIESWEAR                     6\n",
       "LARGE HOUSEHOLD GOODS          2\n",
       "LAWN AND GARDEN                7\n",
       "LIQUOR,WINE,BEER               7\n",
       "MEAT - FRESH & FROZEN         13\n",
       "MEDIA AND GAMING               3\n",
       "MENSWEAR                       8\n",
       "OFFICE SUPPLIES                7\n",
       "OPTICAL - FRAMES               6\n",
       "OPTICAL - LENSES               3\n",
       "OTHER DEPARTMENTS              2\n",
       "PAINT AND ACCESSORIES          4\n",
       "PERSONAL CARE                 24\n",
       "PETS AND SUPPLIES             13\n",
       "PHARMACY OTC                  19\n",
       "PHARMACY RX                    5\n",
       "PLAYERS AND ELECTRONICS        3\n",
       "PLUS AND MATERNITY             2\n",
       "PRE PACKED DELI               12\n",
       "PRODUCE                       25\n",
       "SEAFOOD                        8\n",
       "SEASONAL                       1\n",
       "SERVICE DELI                   9\n",
       "SHEER HOSIERY                  4\n",
       "SHOES                          6\n",
       "SLEEPWEAR/FOUNDATIONS          4\n",
       "SPORTING GOODS                 6\n",
       "SWIMWEAR/OUTERWEAR             3\n",
       "TOYS                           5\n",
       "WIRELESS                       3\n",
       "dtype: int64"
      ]
     },
     "execution_count": 7,
     "metadata": {},
     "output_type": "execute_result"
    }
   ],
   "source": [
    "train_data.T.apply(lambda x: x.nunique(),axis=1)"
   ]
  },
  {
   "cell_type": "code",
   "execution_count": 8,
   "metadata": {
    "collapsed": false
   },
   "outputs": [
    {
     "data": {
      "text/plain": [
       "Weekday  TripType\n",
       "1        3           256\n",
       "         5           267\n",
       "         36          258\n",
       "         37          248\n",
       "         38          308\n",
       "2        3           297\n",
       "         5           296\n",
       "         36          248\n",
       "         37          217\n",
       "         38          278\n",
       "3        3           306\n",
       "         5           311\n",
       "         36          246\n",
       "         37          229\n",
       "         38          257\n",
       "4        3           270\n",
       "         5           306\n",
       "         36          242\n",
       "         37          213\n",
       "         38          242\n",
       "5        3           506\n",
       "         5           350\n",
       "         36          366\n",
       "         37          306\n",
       "         38          289\n",
       "6        3           396\n",
       "         5           362\n",
       "         36          403\n",
       "         37          327\n",
       "         38          291\n",
       "7        3           291\n",
       "         5           311\n",
       "         36          334\n",
       "         37          421\n",
       "         38          388\n",
       "Name: TripType, dtype: int64"
      ]
     },
     "execution_count": 8,
     "metadata": {},
     "output_type": "execute_result"
    }
   ],
   "source": [
    "#train_data_dup = train_data.drop_duplicates(\"VisitNumber\")\n",
    "def get_count(values):\n",
    "    return len(values)\n",
    "grouped_count = train_data.groupby(['Weekday',\"TripType\"]).TripType.agg(get_count)\n",
    "grouped_count"
   ]
  },
  {
   "cell_type": "code",
   "execution_count": 9,
   "metadata": {
    "collapsed": true
   },
   "outputs": [],
   "source": [
    "l=train_data.groupby(['Weekday'])"
   ]
  },
  {
   "cell_type": "code",
   "execution_count": null,
   "metadata": {
    "collapsed": false
   },
   "outputs": [],
   "source": []
  },
  {
   "cell_type": "code",
   "execution_count": null,
   "metadata": {
    "collapsed": false
   },
   "outputs": [],
   "source": []
  },
  {
   "cell_type": "code",
   "execution_count": 10,
   "metadata": {
    "collapsed": false
   },
   "outputs": [],
   "source": [
    "#KNN classifier\n",
    "from sklearn.neighbors import KNeighborsClassifier, RadiusNeighborsClassifier\n",
    "knc = KNeighborsClassifier(n_neighbors=5)\n",
    "knc = knc.fit(np.asarray(train_data[features]), \n",
    "                    np.asarray(train_data.TripType))\n",
    "\n",
    "predictions = knc.predict(np.asarray(test[features]))"
   ]
  },
  {
   "cell_type": "code",
   "execution_count": 11,
   "metadata": {
    "collapsed": false
   },
   "outputs": [
    {
     "data": {
      "text/plain": [
       "0.86137310813774948"
      ]
     },
     "execution_count": 11,
     "metadata": {},
     "output_type": "execute_result"
    }
   ],
   "source": [
    "#Accuracy of KNN\n",
    "import numpy as np\n",
    "from sklearn.metrics import accuracy_score,classification_report\n",
    "accuracy_score(test.TripType,predictions )"
   ]
  },
  {
   "cell_type": "code",
   "execution_count": 12,
   "metadata": {
    "collapsed": false
   },
   "outputs": [
    {
     "name": "stdout",
     "output_type": "stream",
     "text": [
      "             precision    recall  f1-score   support\n",
      "\n",
      "          3       0.94      0.98      0.96      1007\n",
      "          5       0.84      0.84      0.84       912\n",
      "         36       0.86      0.85      0.85       928\n",
      "         37       0.85      0.81      0.83       833\n",
      "         38       0.80      0.81      0.81       879\n",
      "\n",
      "avg / total       0.86      0.86      0.86      4559\n",
      "\n"
     ]
    }
   ],
   "source": [
    "#pd.crosstab(test.TripType,predictions , rownames=['True'], colnames=['Predicted'], margins=True)\n",
    "print(classification_report(test[\"TripType\"], predictions))"
   ]
  },
  {
   "cell_type": "code",
   "execution_count": 10,
   "metadata": {
    "collapsed": false
   },
   "outputs": [],
   "source": [
    "#Logistic Regression\n",
    "from sklearn.cross_validation import train_test_split\n",
    "from sklearn.linear_model import LogisticRegression\n",
    "train_data.TripType = train_data.TripType.astype(float)\n",
    "train_data.Weekday = train_data.Weekday.astype(float)  \n",
    "                         \n",
    "test.TripType = test.TripType.astype(float)\n",
    "test.Weekday = test.Weekday.astype(float)  \n"
   ]
  },
  {
   "cell_type": "code",
   "execution_count": 11,
   "metadata": {
    "collapsed": false
   },
   "outputs": [
    {
     "data": {
      "text/plain": [
       "LogisticRegression(C=1.0, class_weight=None, dual=False, fit_intercept=True,\n",
       "          intercept_scaling=1, max_iter=100, multi_class='ovr', n_jobs=1,\n",
       "          penalty='l2', random_state=None, solver='liblinear', tol=0.0001,\n",
       "          verbose=0, warm_start=False)"
      ]
     },
     "execution_count": 11,
     "metadata": {},
     "output_type": "execute_result"
    }
   ],
   "source": [
    "lr = LogisticRegression()\n",
    "lr.fit(X = np.asarray(train_data[features]), y = np.asarray(train_data.TripType))\n",
    "\n"
   ]
  },
  {
   "cell_type": "code",
   "execution_count": 14,
   "metadata": {
    "collapsed": true
   },
   "outputs": [],
   "source": [
    "import numpy as np\n",
    "from sklearn.metrics import accuracy_score,classification_report\n",
    "predictions = lr.predict(np.asarray(test[features]))"
   ]
  },
  {
   "cell_type": "code",
   "execution_count": 15,
   "metadata": {
    "collapsed": false
   },
   "outputs": [
    {
     "data": {
      "text/plain": [
       "0.90480368501864439"
      ]
     },
     "execution_count": 15,
     "metadata": {},
     "output_type": "execute_result"
    }
   ],
   "source": [
    "#Accuracy of logistic regression\n",
    "accuracy_score(test.TripType,predictions )"
   ]
  },
  {
   "cell_type": "code",
   "execution_count": null,
   "metadata": {
    "collapsed": false
   },
   "outputs": [],
   "source": []
  },
  {
   "cell_type": "code",
   "execution_count": 17,
   "metadata": {
    "collapsed": false
   },
   "outputs": [
    {
     "name": "stdout",
     "output_type": "stream",
     "text": [
      "             precision    recall  f1-score   support\n",
      "\n",
      "        3.0       0.98      0.98      0.98      1007\n",
      "        5.0       0.87      0.88      0.88       912\n",
      "       36.0       0.89      0.89      0.89       928\n",
      "       37.0       0.89      0.87      0.88       833\n",
      "       38.0       0.84      0.86      0.85       879\n",
      "\n",
      "avg / total       0.90      0.90      0.90      4559\n",
      "\n"
     ]
    }
   ],
   "source": [
    "pd.crosstab(test.TripType,predictions , rownames=['True'], colnames=['Predicted'], margins=True)\n",
    "print(classification_report(test[\"TripType\"], predictions))"
   ]
  },
  {
   "cell_type": "code",
   "execution_count": 89,
   "metadata": {
    "collapsed": true
   },
   "outputs": [],
   "source": [
    "#Naive Bayes\n",
    "from sklearn import datasets\n",
    "from sklearn.naive_bayes import GaussianNB, BernoulliNB"
   ]
  },
  {
   "cell_type": "code",
   "execution_count": 90,
   "metadata": {
    "collapsed": false
   },
   "outputs": [],
   "source": [
    "gnb = GaussianNB()\n",
    "\n",
    "gnb = gnb.fit(np.asarray(train_data[features]), \n",
    "                    np.asarray(train_data.TripType))\n",
    "prediction = gnb.predict(np.asarray(test[features]))\n",
    "\n"
   ]
  },
  {
   "cell_type": "code",
   "execution_count": 91,
   "metadata": {
    "collapsed": false
   },
   "outputs": [
    {
     "data": {
      "text/plain": [
       "0.59881552972143015"
      ]
     },
     "execution_count": 91,
     "metadata": {},
     "output_type": "execute_result"
    }
   ],
   "source": [
    "#Accuracy of naive Bayes\n",
    "accuracy_score(test.TripType,prediction )"
   ]
  },
  {
   "cell_type": "code",
   "execution_count": 98,
   "metadata": {
    "collapsed": false
   },
   "outputs": [
    {
     "data": {
      "text/html": [
       "<div>\n",
       "<table border=\"1\" class=\"dataframe\">\n",
       "  <thead>\n",
       "    <tr style=\"text-align: right;\">\n",
       "      <th>Predicted</th>\n",
       "      <th>3.0</th>\n",
       "      <th>5.0</th>\n",
       "      <th>36.0</th>\n",
       "      <th>37.0</th>\n",
       "      <th>38.0</th>\n",
       "      <th>All</th>\n",
       "    </tr>\n",
       "    <tr>\n",
       "      <th>True</th>\n",
       "      <th></th>\n",
       "      <th></th>\n",
       "      <th></th>\n",
       "      <th></th>\n",
       "      <th></th>\n",
       "      <th></th>\n",
       "    </tr>\n",
       "  </thead>\n",
       "  <tbody>\n",
       "    <tr>\n",
       "      <th>3.0</th>\n",
       "      <td>995</td>\n",
       "      <td>5</td>\n",
       "      <td>12</td>\n",
       "      <td>6</td>\n",
       "      <td>21</td>\n",
       "      <td>1039</td>\n",
       "    </tr>\n",
       "    <tr>\n",
       "      <th>5.0</th>\n",
       "      <td>303</td>\n",
       "      <td>489</td>\n",
       "      <td>51</td>\n",
       "      <td>21</td>\n",
       "      <td>58</td>\n",
       "      <td>922</td>\n",
       "    </tr>\n",
       "    <tr>\n",
       "      <th>36.0</th>\n",
       "      <td>53</td>\n",
       "      <td>413</td>\n",
       "      <td>291</td>\n",
       "      <td>20</td>\n",
       "      <td>118</td>\n",
       "      <td>895</td>\n",
       "    </tr>\n",
       "    <tr>\n",
       "      <th>37.0</th>\n",
       "      <td>12</td>\n",
       "      <td>67</td>\n",
       "      <td>22</td>\n",
       "      <td>280</td>\n",
       "      <td>484</td>\n",
       "      <td>865</td>\n",
       "    </tr>\n",
       "    <tr>\n",
       "      <th>38.0</th>\n",
       "      <td>11</td>\n",
       "      <td>56</td>\n",
       "      <td>24</td>\n",
       "      <td>72</td>\n",
       "      <td>675</td>\n",
       "      <td>838</td>\n",
       "    </tr>\n",
       "    <tr>\n",
       "      <th>All</th>\n",
       "      <td>1374</td>\n",
       "      <td>1030</td>\n",
       "      <td>400</td>\n",
       "      <td>399</td>\n",
       "      <td>1356</td>\n",
       "      <td>4559</td>\n",
       "    </tr>\n",
       "  </tbody>\n",
       "</table>\n",
       "</div>"
      ],
      "text/plain": [
       "Predicted   3.0   5.0  36.0  37.0  38.0   All\n",
       "True                                         \n",
       "3.0         995     5    12     6    21  1039\n",
       "5.0         303   489    51    21    58   922\n",
       "36.0         53   413   291    20   118   895\n",
       "37.0         12    67    22   280   484   865\n",
       "38.0         11    56    24    72   675   838\n",
       "All        1374  1030   400   399  1356  4559"
      ]
     },
     "execution_count": 98,
     "metadata": {},
     "output_type": "execute_result"
    }
   ],
   "source": [
    "pd.crosstab(test.TripType,prediction , rownames=['True'], colnames=['Predicted'], margins=True)"
   ]
  },
  {
   "cell_type": "code",
   "execution_count": 30,
   "metadata": {
    "collapsed": false
   },
   "outputs": [
    {
     "data": {
      "text/plain": [
       "0.59464794911164731"
      ]
     },
     "execution_count": 30,
     "metadata": {},
     "output_type": "execute_result"
    }
   ],
   "source": [
    "accuracy_score(test.TripType,prediction )"
   ]
  },
  {
   "cell_type": "code",
   "execution_count": 18,
   "metadata": {
    "collapsed": true
   },
   "outputs": [],
   "source": [
    "# Decision Tree\n",
    "from sklearn import tree\n",
    "clf = tree.DecisionTreeClassifier()\n",
    "clf = clf.fit(np.asarray(train_data[features]), \n",
    "                    np.asarray(train_data.TripType))\n",
    "predictions = clf.predict(np.asarray(test[features]))"
   ]
  },
  {
   "cell_type": "code",
   "execution_count": 19,
   "metadata": {
    "collapsed": false
   },
   "outputs": [
    {
     "data": {
      "text/plain": [
       "0.85194121517876731"
      ]
     },
     "execution_count": 19,
     "metadata": {},
     "output_type": "execute_result"
    }
   ],
   "source": [
    "#Accuracy of Decision Tree\n",
    "accuracy_score(test.TripType,predictions )"
   ]
  },
  {
   "cell_type": "code",
   "execution_count": 20,
   "metadata": {
    "collapsed": false
   },
   "outputs": [
    {
     "name": "stdout",
     "output_type": "stream",
     "text": [
      "             precision    recall  f1-score   support\n",
      "\n",
      "        3.0       0.95      0.98      0.97      1007\n",
      "        5.0       0.83      0.83      0.83       912\n",
      "       36.0       0.83      0.82      0.83       928\n",
      "       37.0       0.85      0.81      0.83       833\n",
      "       38.0       0.78      0.80      0.79       879\n",
      "\n",
      "avg / total       0.85      0.85      0.85      4559\n",
      "\n"
     ]
    }
   ],
   "source": [
    "pd.crosstab(test.TripType,predictions , rownames=['True'], colnames=['Predicted'], margins=True)\n",
    "print(classification_report(test[\"TripType\"], predictions))"
   ]
  },
  {
   "cell_type": "code",
   "execution_count": 97,
   "metadata": {
    "collapsed": true
   },
   "outputs": [],
   "source": [
    "#SVM\n",
    "from sklearn import svm\n",
    "clf = svm.SVC(decision_function_shape='ovr')\n",
    "clf = clf.fit(np.asarray(train_data[features]), \n",
    "                    np.asarray(train_data.TripType))"
   ]
  },
  {
   "cell_type": "code",
   "execution_count": 35,
   "metadata": {
    "collapsed": true
   },
   "outputs": [],
   "source": [
    "predictions = clf.predict(np.asarray(test[features]))"
   ]
  },
  {
   "cell_type": "code",
   "execution_count": 36,
   "metadata": {
    "collapsed": false
   },
   "outputs": [
    {
     "data": {
      "text/plain": [
       "0.88835270892739637"
      ]
     },
     "execution_count": 36,
     "metadata": {},
     "output_type": "execute_result"
    }
   ],
   "source": [
    "#Accuracy of SVM\n",
    "accuracy_score(test.TripType,predictions )"
   ]
  },
  {
   "cell_type": "code",
   "execution_count": 37,
   "metadata": {
    "collapsed": false
   },
   "outputs": [
    {
     "data": {
      "text/html": [
       "<div>\n",
       "<table border=\"1\" class=\"dataframe\">\n",
       "  <thead>\n",
       "    <tr style=\"text-align: right;\">\n",
       "      <th>Predicted</th>\n",
       "      <th>3.0</th>\n",
       "      <th>5.0</th>\n",
       "      <th>36.0</th>\n",
       "      <th>37.0</th>\n",
       "      <th>38.0</th>\n",
       "      <th>All</th>\n",
       "    </tr>\n",
       "    <tr>\n",
       "      <th>True</th>\n",
       "      <th></th>\n",
       "      <th></th>\n",
       "      <th></th>\n",
       "      <th></th>\n",
       "      <th></th>\n",
       "      <th></th>\n",
       "    </tr>\n",
       "  </thead>\n",
       "  <tbody>\n",
       "    <tr>\n",
       "      <th>3.0</th>\n",
       "      <td>1020</td>\n",
       "      <td>24</td>\n",
       "      <td>4</td>\n",
       "      <td>3</td>\n",
       "      <td>3</td>\n",
       "      <td>1054</td>\n",
       "    </tr>\n",
       "    <tr>\n",
       "      <th>5.0</th>\n",
       "      <td>12</td>\n",
       "      <td>816</td>\n",
       "      <td>45</td>\n",
       "      <td>13</td>\n",
       "      <td>23</td>\n",
       "      <td>909</td>\n",
       "    </tr>\n",
       "    <tr>\n",
       "      <th>36.0</th>\n",
       "      <td>4</td>\n",
       "      <td>92</td>\n",
       "      <td>738</td>\n",
       "      <td>14</td>\n",
       "      <td>35</td>\n",
       "      <td>883</td>\n",
       "    </tr>\n",
       "    <tr>\n",
       "      <th>37.0</th>\n",
       "      <td>3</td>\n",
       "      <td>17</td>\n",
       "      <td>10</td>\n",
       "      <td>731</td>\n",
       "      <td>83</td>\n",
       "      <td>844</td>\n",
       "    </tr>\n",
       "    <tr>\n",
       "      <th>38.0</th>\n",
       "      <td>5</td>\n",
       "      <td>31</td>\n",
       "      <td>24</td>\n",
       "      <td>64</td>\n",
       "      <td>745</td>\n",
       "      <td>869</td>\n",
       "    </tr>\n",
       "    <tr>\n",
       "      <th>All</th>\n",
       "      <td>1044</td>\n",
       "      <td>980</td>\n",
       "      <td>821</td>\n",
       "      <td>825</td>\n",
       "      <td>889</td>\n",
       "      <td>4559</td>\n",
       "    </tr>\n",
       "  </tbody>\n",
       "</table>\n",
       "</div>"
      ],
      "text/plain": [
       "Predicted   3.0  5.0  36.0  37.0  38.0   All\n",
       "True                                        \n",
       "3.0        1020   24     4     3     3  1054\n",
       "5.0          12  816    45    13    23   909\n",
       "36.0          4   92   738    14    35   883\n",
       "37.0          3   17    10   731    83   844\n",
       "38.0          5   31    24    64   745   869\n",
       "All        1044  980   821   825   889  4559"
      ]
     },
     "execution_count": 37,
     "metadata": {},
     "output_type": "execute_result"
    }
   ],
   "source": [
    "pd.crosstab(test.TripType,predictions , rownames=['True'], colnames=['Predicted'], margins=True)"
   ]
  },
  {
   "cell_type": "code",
   "execution_count": 21,
   "metadata": {
    "collapsed": false
   },
   "outputs": [],
   "source": [
    "#Random Forest\n",
    "from sklearn.ensemble import RandomForestClassifier\n",
    "walmart_rf = RandomForestClassifier(n_estimators=100)\n",
    "walmart_rf = walmart_rf.fit(np.asarray(train_data[features]), np.asarray(train_data.TripType))\n",
    "predictions = walmart_rf.predict(np.asarray(test[features]))\n"
   ]
  },
  {
   "cell_type": "code",
   "execution_count": 22,
   "metadata": {
    "collapsed": false
   },
   "outputs": [
    {
     "data": {
      "text/plain": [
       "0.88484316736126345"
      ]
     },
     "execution_count": 22,
     "metadata": {},
     "output_type": "execute_result"
    }
   ],
   "source": [
    "#Accuracy of Random Forest\n",
    "accuracy_score(test.TripType,predictions )\n"
   ]
  },
  {
   "cell_type": "code",
   "execution_count": 23,
   "metadata": {
    "collapsed": false
   },
   "outputs": [
    {
     "name": "stdout",
     "output_type": "stream",
     "text": [
      "             precision    recall  f1-score   support\n",
      "\n",
      "        3.0       0.97      0.98      0.97      1007\n",
      "        5.0       0.85      0.86      0.85       912\n",
      "       36.0       0.86      0.86      0.86       928\n",
      "       37.0       0.87      0.88      0.88       833\n",
      "       38.0       0.86      0.84      0.85       879\n",
      "\n",
      "avg / total       0.88      0.88      0.88      4559\n",
      "\n"
     ]
    }
   ],
   "source": [
    "pd.crosstab(test.TripType,predictions , rownames=['True'], colnames=['Predicted'], margins=True)\n",
    "print(classification_report(test[\"TripType\"], predictions))"
   ]
  },
  {
   "cell_type": "code",
   "execution_count": 24,
   "metadata": {
    "collapsed": false
   },
   "outputs": [
    {
     "name": "stderr",
     "output_type": "stream",
     "text": [
      "/usr/local/lib/python3.4/dist-packages/sklearn/lda.py:4: DeprecationWarning: lda.LDA has been moved to discriminant_analysis.LinearDiscriminantAnalysis in 0.17 and will be removed in 0.19\n",
      "  \"in 0.17 and will be removed in 0.19\", DeprecationWarning)\n"
     ]
    }
   ],
   "source": [
    "#LDA\n",
    "from sklearn.lda import LDA\n",
    "clf = LDA()\n",
    "clf = clf.fit(np.asarray(train_data[features]), np.asarray(train_data.TripType))\n",
    "predictions = clf.predict(np.asarray(test[features]))"
   ]
  },
  {
   "cell_type": "code",
   "execution_count": 25,
   "metadata": {
    "collapsed": false
   },
   "outputs": [
    {
     "data": {
      "text/plain": [
       "0.86181180083351616"
      ]
     },
     "execution_count": 25,
     "metadata": {},
     "output_type": "execute_result"
    }
   ],
   "source": [
    "# Accuracy of LDA\n",
    "accuracy_score(test.TripType,predictions )"
   ]
  },
  {
   "cell_type": "code",
   "execution_count": 26,
   "metadata": {
    "collapsed": false
   },
   "outputs": [
    {
     "name": "stdout",
     "output_type": "stream",
     "text": [
      "             precision    recall  f1-score   support\n",
      "\n",
      "        3.0       0.96      0.91      0.93      1007\n",
      "        5.0       0.74      0.91      0.82       912\n",
      "       36.0       0.90      0.84      0.87       928\n",
      "       37.0       0.94      0.76      0.84       833\n",
      "       38.0       0.82      0.87      0.84       879\n",
      "\n",
      "avg / total       0.87      0.86      0.86      4559\n",
      "\n"
     ]
    }
   ],
   "source": [
    "pd.crosstab(test.TripType,predictions , rownames=['True'], colnames=['Predicted'], margins=True)\n",
    "print(classification_report(test[\"TripType\"], predictions))"
   ]
  },
  {
   "cell_type": "code",
   "execution_count": 44,
   "metadata": {
    "collapsed": false
   },
   "outputs": [
    {
     "data": {
      "text/html": [
       "<div>\n",
       "<table border=\"1\" class=\"dataframe\">\n",
       "  <thead>\n",
       "    <tr style=\"text-align: right;\">\n",
       "      <th></th>\n",
       "      <th>TripType</th>\n",
       "      <th>Weekday</th>\n",
       "      <th>NumItems</th>\n",
       "      <th>Return</th>\n",
       "      <th>1-HR PHOTO</th>\n",
       "      <th>ACCESSORIES</th>\n",
       "      <th>AUTOMOTIVE</th>\n",
       "      <th>BAKERY</th>\n",
       "      <th>BATH AND SHOWER</th>\n",
       "      <th>BEAUTY</th>\n",
       "      <th>...</th>\n",
       "      <th>SEAFOOD</th>\n",
       "      <th>SEASONAL</th>\n",
       "      <th>SERVICE DELI</th>\n",
       "      <th>SHEER HOSIERY</th>\n",
       "      <th>SHOES</th>\n",
       "      <th>SLEEPWEAR/FOUNDATIONS</th>\n",
       "      <th>SPORTING GOODS</th>\n",
       "      <th>SWIMWEAR/OUTERWEAR</th>\n",
       "      <th>TOYS</th>\n",
       "      <th>WIRELESS</th>\n",
       "    </tr>\n",
       "    <tr>\n",
       "      <th>VisitNumber</th>\n",
       "      <th></th>\n",
       "      <th></th>\n",
       "      <th></th>\n",
       "      <th></th>\n",
       "      <th></th>\n",
       "      <th></th>\n",
       "      <th></th>\n",
       "      <th></th>\n",
       "      <th></th>\n",
       "      <th></th>\n",
       "      <th></th>\n",
       "      <th></th>\n",
       "      <th></th>\n",
       "      <th></th>\n",
       "      <th></th>\n",
       "      <th></th>\n",
       "      <th></th>\n",
       "      <th></th>\n",
       "      <th></th>\n",
       "      <th></th>\n",
       "      <th></th>\n",
       "    </tr>\n",
       "  </thead>\n",
       "  <tbody>\n",
       "    <tr>\n",
       "      <th>50694</th>\n",
       "      <td>37.0</td>\n",
       "      <td>6.0</td>\n",
       "      <td>2</td>\n",
       "      <td>0.0</td>\n",
       "      <td>0.0</td>\n",
       "      <td>0.0</td>\n",
       "      <td>0.0</td>\n",
       "      <td>0.0</td>\n",
       "      <td>0.0</td>\n",
       "      <td>0.0</td>\n",
       "      <td>...</td>\n",
       "      <td>0.0</td>\n",
       "      <td>0.0</td>\n",
       "      <td>0.0</td>\n",
       "      <td>0.0</td>\n",
       "      <td>0.0</td>\n",
       "      <td>0.0</td>\n",
       "      <td>0.0</td>\n",
       "      <td>0.0</td>\n",
       "      <td>0.0</td>\n",
       "      <td>0.0</td>\n",
       "    </tr>\n",
       "    <tr>\n",
       "      <th>98374</th>\n",
       "      <td>38.0</td>\n",
       "      <td>6.0</td>\n",
       "      <td>5</td>\n",
       "      <td>0.0</td>\n",
       "      <td>0.0</td>\n",
       "      <td>0.0</td>\n",
       "      <td>0.0</td>\n",
       "      <td>0.0</td>\n",
       "      <td>0.0</td>\n",
       "      <td>0.0</td>\n",
       "      <td>...</td>\n",
       "      <td>0.0</td>\n",
       "      <td>0.0</td>\n",
       "      <td>0.0</td>\n",
       "      <td>0.0</td>\n",
       "      <td>0.0</td>\n",
       "      <td>0.0</td>\n",
       "      <td>0.0</td>\n",
       "      <td>0.0</td>\n",
       "      <td>0.0</td>\n",
       "      <td>0.0</td>\n",
       "    </tr>\n",
       "    <tr>\n",
       "      <th>84385</th>\n",
       "      <td>5.0</td>\n",
       "      <td>4.0</td>\n",
       "      <td>4</td>\n",
       "      <td>0.0</td>\n",
       "      <td>0.0</td>\n",
       "      <td>0.0</td>\n",
       "      <td>0.0</td>\n",
       "      <td>0.0</td>\n",
       "      <td>0.0</td>\n",
       "      <td>1.0</td>\n",
       "      <td>...</td>\n",
       "      <td>0.0</td>\n",
       "      <td>0.0</td>\n",
       "      <td>0.0</td>\n",
       "      <td>0.0</td>\n",
       "      <td>0.0</td>\n",
       "      <td>0.0</td>\n",
       "      <td>0.0</td>\n",
       "      <td>0.0</td>\n",
       "      <td>0.0</td>\n",
       "      <td>0.0</td>\n",
       "    </tr>\n",
       "    <tr>\n",
       "      <th>166737</th>\n",
       "      <td>38.0</td>\n",
       "      <td>3.0</td>\n",
       "      <td>8</td>\n",
       "      <td>0.0</td>\n",
       "      <td>0.0</td>\n",
       "      <td>0.0</td>\n",
       "      <td>0.0</td>\n",
       "      <td>1.0</td>\n",
       "      <td>0.0</td>\n",
       "      <td>0.0</td>\n",
       "      <td>...</td>\n",
       "      <td>0.0</td>\n",
       "      <td>0.0</td>\n",
       "      <td>0.0</td>\n",
       "      <td>0.0</td>\n",
       "      <td>0.0</td>\n",
       "      <td>0.0</td>\n",
       "      <td>0.0</td>\n",
       "      <td>0.0</td>\n",
       "      <td>0.0</td>\n",
       "      <td>0.0</td>\n",
       "    </tr>\n",
       "    <tr>\n",
       "      <th>117588</th>\n",
       "      <td>3.0</td>\n",
       "      <td>2.0</td>\n",
       "      <td>1</td>\n",
       "      <td>0.0</td>\n",
       "      <td>0.0</td>\n",
       "      <td>0.0</td>\n",
       "      <td>0.0</td>\n",
       "      <td>0.0</td>\n",
       "      <td>0.0</td>\n",
       "      <td>0.0</td>\n",
       "      <td>...</td>\n",
       "      <td>0.0</td>\n",
       "      <td>0.0</td>\n",
       "      <td>0.0</td>\n",
       "      <td>0.0</td>\n",
       "      <td>0.0</td>\n",
       "      <td>0.0</td>\n",
       "      <td>0.0</td>\n",
       "      <td>0.0</td>\n",
       "      <td>0.0</td>\n",
       "      <td>0.0</td>\n",
       "    </tr>\n",
       "  </tbody>\n",
       "</table>\n",
       "<p>5 rows × 71 columns</p>\n",
       "</div>"
      ],
      "text/plain": [
       "             TripType  Weekday  NumItems  Return  1-HR PHOTO  ACCESSORIES  \\\n",
       "VisitNumber                                                                 \n",
       "50694            37.0      6.0         2     0.0         0.0          0.0   \n",
       "98374            38.0      6.0         5     0.0         0.0          0.0   \n",
       "84385             5.0      4.0         4     0.0         0.0          0.0   \n",
       "166737           38.0      3.0         8     0.0         0.0          0.0   \n",
       "117588            3.0      2.0         1     0.0         0.0          0.0   \n",
       "\n",
       "             AUTOMOTIVE  BAKERY  BATH AND SHOWER  BEAUTY    ...     SEAFOOD  \\\n",
       "VisitNumber                                                 ...               \n",
       "50694               0.0     0.0              0.0     0.0    ...         0.0   \n",
       "98374               0.0     0.0              0.0     0.0    ...         0.0   \n",
       "84385               0.0     0.0              0.0     1.0    ...         0.0   \n",
       "166737              0.0     1.0              0.0     0.0    ...         0.0   \n",
       "117588              0.0     0.0              0.0     0.0    ...         0.0   \n",
       "\n",
       "             SEASONAL  SERVICE DELI  SHEER HOSIERY  SHOES  \\\n",
       "VisitNumber                                                 \n",
       "50694             0.0           0.0            0.0    0.0   \n",
       "98374             0.0           0.0            0.0    0.0   \n",
       "84385             0.0           0.0            0.0    0.0   \n",
       "166737            0.0           0.0            0.0    0.0   \n",
       "117588            0.0           0.0            0.0    0.0   \n",
       "\n",
       "             SLEEPWEAR/FOUNDATIONS  SPORTING GOODS  SWIMWEAR/OUTERWEAR  TOYS  \\\n",
       "VisitNumber                                                                    \n",
       "50694                          0.0             0.0                 0.0   0.0   \n",
       "98374                          0.0             0.0                 0.0   0.0   \n",
       "84385                          0.0             0.0                 0.0   0.0   \n",
       "166737                         0.0             0.0                 0.0   0.0   \n",
       "117588                         0.0             0.0                 0.0   0.0   \n",
       "\n",
       "             WIRELESS  \n",
       "VisitNumber            \n",
       "50694             0.0  \n",
       "98374             0.0  \n",
       "84385             0.0  \n",
       "166737            0.0  \n",
       "117588            0.0  \n",
       "\n",
       "[5 rows x 71 columns]"
      ]
     },
     "execution_count": 44,
     "metadata": {},
     "output_type": "execute_result"
    }
   ],
   "source": [
    "train_data.head()"
   ]
  },
  {
   "cell_type": "code",
   "execution_count": 52,
   "metadata": {
    "collapsed": true
   },
   "outputs": [],
   "source": [
    "train_data.to_csv(\"featureData.csv\", sep=',')"
   ]
  },
  {
   "cell_type": "code",
   "execution_count": null,
   "metadata": {
    "collapsed": true
   },
   "outputs": [],
   "source": []
  }
 ],
 "metadata": {
  "kernelspec": {
   "display_name": "Python 3",
   "language": "python",
   "name": "python3"
  },
  "language_info": {
   "codemirror_mode": {
    "name": "ipython",
    "version": 3
   },
   "file_extension": ".py",
   "mimetype": "text/x-python",
   "name": "python",
   "nbconvert_exporter": "python",
   "pygments_lexer": "ipython3",
   "version": "3.4.3"
  },
  "widgets": {
   "state": {},
   "version": "1.1.2"
  }
 },
 "nbformat": 4,
 "nbformat_minor": 0
}
